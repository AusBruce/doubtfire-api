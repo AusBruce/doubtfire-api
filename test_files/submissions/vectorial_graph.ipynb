{
 "cells": [
  {
   "cell_type": "code",
   "execution_count": 1,
   "metadata": {},
   "outputs": [
    {
     "data": {
      "text/latex": [
       "$\\displaystyle - r \\left(1 - \\frac{P{\\left(t \\right)}}{K}\\right) P{\\left(t \\right)} + \\frac{d}{d t} P{\\left(t \\right)}$"
      ],
      "text/plain": [
       "-r*(1 - P(t)/K)*P(t) + Derivative(P(t), t)"
      ]
     },
     "execution_count": 1,
     "metadata": {},
     "output_type": "execute_result"
    }
   ],
   "source": [
    "import sympy\n",
    "t, K ,r, P0, C1 = sympy.symbols('t, K, r, P_0, C_1')\n",
    "P = sympy.Function('P')\n",
    "edo = P(t).diff(t) - r * P(t) * (1 - P(t)/K)\n",
    "edo"
   ]
  },
  {
   "cell_type": "code",
   "execution_count": 2,
   "metadata": {},
   "outputs": [
    {
     "data": {
      "text/latex": [
       "$\\displaystyle P{\\left(t \\right)} = \\frac{K e^{C_{1} K + r t}}{e^{C_{1} K + r t} - 1}$"
      ],
      "text/plain": [
       "Eq(P(t), K*exp(C1*K + r*t)/(exp(C1*K + r*t) - 1))"
      ]
     },
     "execution_count": 2,
     "metadata": {},
     "output_type": "execute_result"
    }
   ],
   "source": [
    "edo_sol = sympy.dsolve(edo, P(t))\n",
    "edo_sol"
   ]
  },
  {
   "cell_type": "code",
   "execution_count": 3,
   "metadata": {},
   "outputs": [
    {
     "data": {
      "text/plain": [
       "{P(0): P_0}"
      ]
     },
     "execution_count": 3,
     "metadata": {},
     "output_type": "execute_result"
    }
   ],
   "source": [
    "ini_cond = {P(0): P0}\n",
    "ini_cond"
   ]
  },
  {
   "cell_type": "code",
   "execution_count": 4,
   "metadata": {},
   "outputs": [
    {
     "data": {
      "text/latex": [
       "$\\displaystyle P_{0} = \\frac{K e^{C_{1} K}}{e^{C_{1} K} - 1}$"
      ],
      "text/plain": [
       "Eq(P_0, K*exp(C1*K)/(exp(C1*K) - 1))"
      ]
     },
     "execution_count": 4,
     "metadata": {},
     "output_type": "execute_result"
    }
   ],
   "source": [
    "C_eq = edo_sol.subs(t,0).subs(ini_cond)\n",
    "C_eq"
   ]
  },
  {
   "cell_type": "code",
   "execution_count": 9,
   "metadata": {},
   "outputs": [],
   "source": [
    "import matplotlib.pyplot as plt\n",
    "import numpy as np\n",
    "%config InlineBackend.figure_formats = ['svg']\n",
    "\n",
    "def logistica(t, P0=100, K=1000, r=0.25):\n",
    "    A = P0 / (P0 - K)\n",
    "    return K / (1 - np.exp(-r*t) / A)"
   ]
  },
  {
   "cell_type": "code",
   "execution_count": 10,
   "metadata": {},
   "outputs": [
    {
     "data": {
      "image/svg+xml": "<?xml version=\"1.0\" encoding=\"utf-8\" standalone=\"no\"?>\n<!DOCTYPE svg PUBLIC \"-//W3C//DTD SVG 1.1//EN\"\n  \"http://www.w3.org/Graphics/SVG/1.1/DTD/svg11.dtd\">\n<svg height=\"248.518125pt\" version=\"1.1\" viewBox=\"0 0 381.65 248.518125\" width=\"381.65pt\" xmlns=\"http://www.w3.org/2000/svg\" xmlns:xlink=\"http://www.w3.org/1999/xlink\">\n <metadata>\n  <rdf:RDF xmlns:cc=\"http://creativecommons.org/ns#\" xmlns:dc=\"http://purl.org/dc/elements/1.1/\" xmlns:rdf=\"http://www.w3.org/1999/02/22-rdf-syntax-ns#\">\n   <cc:Work>\n    <dc:type rdf:resource=\"http://purl.org/dc/dcmitype/StillImage\"/>\n    <dc:date>2021-04-12T11:30:30.775343</dc:date>\n    <dc:format>image/svg+xml</dc:format>\n    <dc:creator>\n     <cc:Agent>\n      <dc:title>Matplotlib v3.4.1, https://matplotlib.org/</dc:title>\n     </cc:Agent>\n    </dc:creator>\n   </cc:Work>\n  </rdf:RDF>\n </metadata>\n <defs>\n  <style type=\"text/css\">*{stroke-linecap:butt;stroke-linejoin:round;}</style>\n </defs>\n <g id=\"figure_1\">\n  <g id=\"patch_1\">\n   <path d=\"M -0 248.518125 \nL 381.65 248.518125 \nL 381.65 0 \nL -0 0 \nz\n\" style=\"fill:none;\"/>\n  </g>\n  <g id=\"axes_1\">\n   <g id=\"patch_2\">\n    <path d=\"M 39.65 224.64 \nL 374.45 224.64 \nL 374.45 7.2 \nL 39.65 7.2 \nz\n\" style=\"fill:#ffffff;\"/>\n   </g>\n   <g id=\"matplotlib.axis_1\">\n    <g id=\"xtick_1\">\n     <g id=\"line2d_1\">\n      <defs>\n       <path d=\"M 0 0 \nL 0 3.5 \n\" id=\"m66cf404c72\" style=\"stroke:#000000;stroke-width:0.8;\"/>\n      </defs>\n      <g>\n       <use style=\"stroke:#000000;stroke-width:0.8;\" x=\"54.868182\" xlink:href=\"#m66cf404c72\" y=\"224.64\"/>\n      </g>\n     </g>\n     <g id=\"text_1\">\n      <!-- 0 -->\n      <g transform=\"translate(51.686932 239.238437)scale(0.1 -0.1)\">\n       <defs>\n        <path d=\"M 2034 4250 \nQ 1547 4250 1301 3770 \nQ 1056 3291 1056 2328 \nQ 1056 1369 1301 889 \nQ 1547 409 2034 409 \nQ 2525 409 2770 889 \nQ 3016 1369 3016 2328 \nQ 3016 3291 2770 3770 \nQ 2525 4250 2034 4250 \nz\nM 2034 4750 \nQ 2819 4750 3233 4129 \nQ 3647 3509 3647 2328 \nQ 3647 1150 3233 529 \nQ 2819 -91 2034 -91 \nQ 1250 -91 836 529 \nQ 422 1150 422 2328 \nQ 422 3509 836 4129 \nQ 1250 4750 2034 4750 \nz\n\" id=\"DejaVuSans-30\" transform=\"scale(0.015625)\"/>\n       </defs>\n       <use xlink:href=\"#DejaVuSans-30\"/>\n      </g>\n     </g>\n    </g>\n    <g id=\"xtick_2\">\n     <g id=\"line2d_2\">\n      <g>\n       <use style=\"stroke:#000000;stroke-width:0.8;\" x=\"92.913636\" xlink:href=\"#m66cf404c72\" y=\"224.64\"/>\n      </g>\n     </g>\n     <g id=\"text_2\">\n      <!-- 5 -->\n      <g transform=\"translate(89.732386 239.238437)scale(0.1 -0.1)\">\n       <defs>\n        <path d=\"M 691 4666 \nL 3169 4666 \nL 3169 4134 \nL 1269 4134 \nL 1269 2991 \nQ 1406 3038 1543 3061 \nQ 1681 3084 1819 3084 \nQ 2600 3084 3056 2656 \nQ 3513 2228 3513 1497 \nQ 3513 744 3044 326 \nQ 2575 -91 1722 -91 \nQ 1428 -91 1123 -41 \nQ 819 9 494 109 \nL 494 744 \nQ 775 591 1075 516 \nQ 1375 441 1709 441 \nQ 2250 441 2565 725 \nQ 2881 1009 2881 1497 \nQ 2881 1984 2565 2268 \nQ 2250 2553 1709 2553 \nQ 1456 2553 1204 2497 \nQ 953 2441 691 2322 \nL 691 4666 \nz\n\" id=\"DejaVuSans-35\" transform=\"scale(0.015625)\"/>\n       </defs>\n       <use xlink:href=\"#DejaVuSans-35\"/>\n      </g>\n     </g>\n    </g>\n    <g id=\"xtick_3\">\n     <g id=\"line2d_3\">\n      <g>\n       <use style=\"stroke:#000000;stroke-width:0.8;\" x=\"130.959091\" xlink:href=\"#m66cf404c72\" y=\"224.64\"/>\n      </g>\n     </g>\n     <g id=\"text_3\">\n      <!-- 10 -->\n      <g transform=\"translate(124.596591 239.238437)scale(0.1 -0.1)\">\n       <defs>\n        <path d=\"M 794 531 \nL 1825 531 \nL 1825 4091 \nL 703 3866 \nL 703 4441 \nL 1819 4666 \nL 2450 4666 \nL 2450 531 \nL 3481 531 \nL 3481 0 \nL 794 0 \nL 794 531 \nz\n\" id=\"DejaVuSans-31\" transform=\"scale(0.015625)\"/>\n       </defs>\n       <use xlink:href=\"#DejaVuSans-31\"/>\n       <use x=\"63.623047\" xlink:href=\"#DejaVuSans-30\"/>\n      </g>\n     </g>\n    </g>\n    <g id=\"xtick_4\">\n     <g id=\"line2d_4\">\n      <g>\n       <use style=\"stroke:#000000;stroke-width:0.8;\" x=\"169.004545\" xlink:href=\"#m66cf404c72\" y=\"224.64\"/>\n      </g>\n     </g>\n     <g id=\"text_4\">\n      <!-- 15 -->\n      <g transform=\"translate(162.642045 239.238437)scale(0.1 -0.1)\">\n       <use xlink:href=\"#DejaVuSans-31\"/>\n       <use x=\"63.623047\" xlink:href=\"#DejaVuSans-35\"/>\n      </g>\n     </g>\n    </g>\n    <g id=\"xtick_5\">\n     <g id=\"line2d_5\">\n      <g>\n       <use style=\"stroke:#000000;stroke-width:0.8;\" x=\"207.05\" xlink:href=\"#m66cf404c72\" y=\"224.64\"/>\n      </g>\n     </g>\n     <g id=\"text_5\">\n      <!-- 20 -->\n      <g transform=\"translate(200.6875 239.238437)scale(0.1 -0.1)\">\n       <defs>\n        <path d=\"M 1228 531 \nL 3431 531 \nL 3431 0 \nL 469 0 \nL 469 531 \nQ 828 903 1448 1529 \nQ 2069 2156 2228 2338 \nQ 2531 2678 2651 2914 \nQ 2772 3150 2772 3378 \nQ 2772 3750 2511 3984 \nQ 2250 4219 1831 4219 \nQ 1534 4219 1204 4116 \nQ 875 4013 500 3803 \nL 500 4441 \nQ 881 4594 1212 4672 \nQ 1544 4750 1819 4750 \nQ 2544 4750 2975 4387 \nQ 3406 4025 3406 3419 \nQ 3406 3131 3298 2873 \nQ 3191 2616 2906 2266 \nQ 2828 2175 2409 1742 \nQ 1991 1309 1228 531 \nz\n\" id=\"DejaVuSans-32\" transform=\"scale(0.015625)\"/>\n       </defs>\n       <use xlink:href=\"#DejaVuSans-32\"/>\n       <use x=\"63.623047\" xlink:href=\"#DejaVuSans-30\"/>\n      </g>\n     </g>\n    </g>\n    <g id=\"xtick_6\">\n     <g id=\"line2d_6\">\n      <g>\n       <use style=\"stroke:#000000;stroke-width:0.8;\" x=\"245.095455\" xlink:href=\"#m66cf404c72\" y=\"224.64\"/>\n      </g>\n     </g>\n     <g id=\"text_6\">\n      <!-- 25 -->\n      <g transform=\"translate(238.732955 239.238437)scale(0.1 -0.1)\">\n       <use xlink:href=\"#DejaVuSans-32\"/>\n       <use x=\"63.623047\" xlink:href=\"#DejaVuSans-35\"/>\n      </g>\n     </g>\n    </g>\n    <g id=\"xtick_7\">\n     <g id=\"line2d_7\">\n      <g>\n       <use style=\"stroke:#000000;stroke-width:0.8;\" x=\"283.140909\" xlink:href=\"#m66cf404c72\" y=\"224.64\"/>\n      </g>\n     </g>\n     <g id=\"text_7\">\n      <!-- 30 -->\n      <g transform=\"translate(276.778409 239.238437)scale(0.1 -0.1)\">\n       <defs>\n        <path d=\"M 2597 2516 \nQ 3050 2419 3304 2112 \nQ 3559 1806 3559 1356 \nQ 3559 666 3084 287 \nQ 2609 -91 1734 -91 \nQ 1441 -91 1130 -33 \nQ 819 25 488 141 \nL 488 750 \nQ 750 597 1062 519 \nQ 1375 441 1716 441 \nQ 2309 441 2620 675 \nQ 2931 909 2931 1356 \nQ 2931 1769 2642 2001 \nQ 2353 2234 1838 2234 \nL 1294 2234 \nL 1294 2753 \nL 1863 2753 \nQ 2328 2753 2575 2939 \nQ 2822 3125 2822 3475 \nQ 2822 3834 2567 4026 \nQ 2313 4219 1838 4219 \nQ 1578 4219 1281 4162 \nQ 984 4106 628 3988 \nL 628 4550 \nQ 988 4650 1302 4700 \nQ 1616 4750 1894 4750 \nQ 2613 4750 3031 4423 \nQ 3450 4097 3450 3541 \nQ 3450 3153 3228 2886 \nQ 3006 2619 2597 2516 \nz\n\" id=\"DejaVuSans-33\" transform=\"scale(0.015625)\"/>\n       </defs>\n       <use xlink:href=\"#DejaVuSans-33\"/>\n       <use x=\"63.623047\" xlink:href=\"#DejaVuSans-30\"/>\n      </g>\n     </g>\n    </g>\n    <g id=\"xtick_8\">\n     <g id=\"line2d_8\">\n      <g>\n       <use style=\"stroke:#000000;stroke-width:0.8;\" x=\"321.186364\" xlink:href=\"#m66cf404c72\" y=\"224.64\"/>\n      </g>\n     </g>\n     <g id=\"text_8\">\n      <!-- 35 -->\n      <g transform=\"translate(314.823864 239.238437)scale(0.1 -0.1)\">\n       <use xlink:href=\"#DejaVuSans-33\"/>\n       <use x=\"63.623047\" xlink:href=\"#DejaVuSans-35\"/>\n      </g>\n     </g>\n    </g>\n    <g id=\"xtick_9\">\n     <g id=\"line2d_9\">\n      <g>\n       <use style=\"stroke:#000000;stroke-width:0.8;\" x=\"359.231818\" xlink:href=\"#m66cf404c72\" y=\"224.64\"/>\n      </g>\n     </g>\n     <g id=\"text_9\">\n      <!-- 40 -->\n      <g transform=\"translate(352.869318 239.238437)scale(0.1 -0.1)\">\n       <defs>\n        <path d=\"M 2419 4116 \nL 825 1625 \nL 2419 1625 \nL 2419 4116 \nz\nM 2253 4666 \nL 3047 4666 \nL 3047 1625 \nL 3713 1625 \nL 3713 1100 \nL 3047 1100 \nL 3047 0 \nL 2419 0 \nL 2419 1100 \nL 313 1100 \nL 313 1709 \nL 2253 4666 \nz\n\" id=\"DejaVuSans-34\" transform=\"scale(0.015625)\"/>\n       </defs>\n       <use xlink:href=\"#DejaVuSans-34\"/>\n       <use x=\"63.623047\" xlink:href=\"#DejaVuSans-30\"/>\n      </g>\n     </g>\n    </g>\n   </g>\n   <g id=\"matplotlib.axis_2\">\n    <g id=\"ytick_1\">\n     <g id=\"line2d_10\">\n      <defs>\n       <path d=\"M 0 0 \nL -3.5 0 \n\" id=\"mab7a3d5ca3\" style=\"stroke:#000000;stroke-width:0.8;\"/>\n      </defs>\n      <g>\n       <use style=\"stroke:#000000;stroke-width:0.8;\" x=\"39.65\" xlink:href=\"#mab7a3d5ca3\" y=\"199.150622\"/>\n      </g>\n     </g>\n     <g id=\"text_10\">\n      <!-- 250 -->\n      <g transform=\"translate(13.5625 202.949841)scale(0.1 -0.1)\">\n       <use xlink:href=\"#DejaVuSans-32\"/>\n       <use x=\"63.623047\" xlink:href=\"#DejaVuSans-35\"/>\n       <use x=\"127.246094\" xlink:href=\"#DejaVuSans-30\"/>\n      </g>\n     </g>\n    </g>\n    <g id=\"ytick_2\">\n     <g id=\"line2d_11\">\n      <g>\n       <use style=\"stroke:#000000;stroke-width:0.8;\" x=\"39.65\" xlink:href=\"#mab7a3d5ca3\" y=\"173.141053\"/>\n      </g>\n     </g>\n     <g id=\"text_11\">\n      <!-- 500 -->\n      <g transform=\"translate(13.5625 176.940271)scale(0.1 -0.1)\">\n       <use xlink:href=\"#DejaVuSans-35\"/>\n       <use x=\"63.623047\" xlink:href=\"#DejaVuSans-30\"/>\n       <use x=\"127.246094\" xlink:href=\"#DejaVuSans-30\"/>\n      </g>\n     </g>\n    </g>\n    <g id=\"ytick_3\">\n     <g id=\"line2d_12\">\n      <g>\n       <use style=\"stroke:#000000;stroke-width:0.8;\" x=\"39.65\" xlink:href=\"#mab7a3d5ca3\" y=\"147.131483\"/>\n      </g>\n     </g>\n     <g id=\"text_12\">\n      <!-- 750 -->\n      <g transform=\"translate(13.5625 150.930702)scale(0.1 -0.1)\">\n       <defs>\n        <path d=\"M 525 4666 \nL 3525 4666 \nL 3525 4397 \nL 1831 0 \nL 1172 0 \nL 2766 4134 \nL 525 4134 \nL 525 4666 \nz\n\" id=\"DejaVuSans-37\" transform=\"scale(0.015625)\"/>\n       </defs>\n       <use xlink:href=\"#DejaVuSans-37\"/>\n       <use x=\"63.623047\" xlink:href=\"#DejaVuSans-35\"/>\n       <use x=\"127.246094\" xlink:href=\"#DejaVuSans-30\"/>\n      </g>\n     </g>\n    </g>\n    <g id=\"ytick_4\">\n     <g id=\"line2d_13\">\n      <g>\n       <use style=\"stroke:#000000;stroke-width:0.8;\" x=\"39.65\" xlink:href=\"#mab7a3d5ca3\" y=\"121.121914\"/>\n      </g>\n     </g>\n     <g id=\"text_13\">\n      <!-- 1000 -->\n      <g transform=\"translate(7.2 124.921133)scale(0.1 -0.1)\">\n       <use xlink:href=\"#DejaVuSans-31\"/>\n       <use x=\"63.623047\" xlink:href=\"#DejaVuSans-30\"/>\n       <use x=\"127.246094\" xlink:href=\"#DejaVuSans-30\"/>\n       <use x=\"190.869141\" xlink:href=\"#DejaVuSans-30\"/>\n      </g>\n     </g>\n    </g>\n    <g id=\"ytick_5\">\n     <g id=\"line2d_14\">\n      <g>\n       <use style=\"stroke:#000000;stroke-width:0.8;\" x=\"39.65\" xlink:href=\"#mab7a3d5ca3\" y=\"95.112344\"/>\n      </g>\n     </g>\n     <g id=\"text_14\">\n      <!-- 1250 -->\n      <g transform=\"translate(7.2 98.911563)scale(0.1 -0.1)\">\n       <use xlink:href=\"#DejaVuSans-31\"/>\n       <use x=\"63.623047\" xlink:href=\"#DejaVuSans-32\"/>\n       <use x=\"127.246094\" xlink:href=\"#DejaVuSans-35\"/>\n       <use x=\"190.869141\" xlink:href=\"#DejaVuSans-30\"/>\n      </g>\n     </g>\n    </g>\n    <g id=\"ytick_6\">\n     <g id=\"line2d_15\">\n      <g>\n       <use style=\"stroke:#000000;stroke-width:0.8;\" x=\"39.65\" xlink:href=\"#mab7a3d5ca3\" y=\"69.102775\"/>\n      </g>\n     </g>\n     <g id=\"text_15\">\n      <!-- 1500 -->\n      <g transform=\"translate(7.2 72.901994)scale(0.1 -0.1)\">\n       <use xlink:href=\"#DejaVuSans-31\"/>\n       <use x=\"63.623047\" xlink:href=\"#DejaVuSans-35\"/>\n       <use x=\"127.246094\" xlink:href=\"#DejaVuSans-30\"/>\n       <use x=\"190.869141\" xlink:href=\"#DejaVuSans-30\"/>\n      </g>\n     </g>\n    </g>\n    <g id=\"ytick_7\">\n     <g id=\"line2d_16\">\n      <g>\n       <use style=\"stroke:#000000;stroke-width:0.8;\" x=\"39.65\" xlink:href=\"#mab7a3d5ca3\" y=\"43.093206\"/>\n      </g>\n     </g>\n     <g id=\"text_16\">\n      <!-- 1750 -->\n      <g transform=\"translate(7.2 46.892424)scale(0.1 -0.1)\">\n       <use xlink:href=\"#DejaVuSans-31\"/>\n       <use x=\"63.623047\" xlink:href=\"#DejaVuSans-37\"/>\n       <use x=\"127.246094\" xlink:href=\"#DejaVuSans-35\"/>\n       <use x=\"190.869141\" xlink:href=\"#DejaVuSans-30\"/>\n      </g>\n     </g>\n    </g>\n    <g id=\"ytick_8\">\n     <g id=\"line2d_17\">\n      <g>\n       <use style=\"stroke:#000000;stroke-width:0.8;\" x=\"39.65\" xlink:href=\"#mab7a3d5ca3\" y=\"17.083636\"/>\n      </g>\n     </g>\n     <g id=\"text_17\">\n      <!-- 2000 -->\n      <g transform=\"translate(7.2 20.882855)scale(0.1 -0.1)\">\n       <use xlink:href=\"#DejaVuSans-32\"/>\n       <use x=\"63.623047\" xlink:href=\"#DejaVuSans-30\"/>\n       <use x=\"127.246094\" xlink:href=\"#DejaVuSans-30\"/>\n       <use x=\"190.869141\" xlink:href=\"#DejaVuSans-30\"/>\n      </g>\n     </g>\n    </g>\n   </g>\n   <g id=\"line2d_18\">\n    <path clip-path=\"url(#p04b4b138c9)\" d=\"M 54.868182 214.756364 \nL 57.942562 213.77161 \nL 61.016942 212.706045 \nL 64.091322 211.55542 \nL 67.165702 210.315721 \nL 70.240083 208.983265 \nL 73.314463 207.554814 \nL 76.388843 206.027694 \nL 79.463223 204.399927 \nL 82.537603 202.670354 \nL 85.611983 200.83877 \nL 88.686364 198.906044 \nL 91.760744 196.874229 \nL 94.835124 194.746653 \nL 97.909504 192.527985 \nL 100.983884 190.224265 \nL 104.058264 187.842905 \nL 107.132645 185.392637 \nL 110.207025 182.883427 \nL 113.281405 180.326335 \nL 116.355785 177.733347 \nL 119.430165 175.117152 \nL 122.504545 172.490909 \nL 125.578926 169.867975 \nL 128.653306 167.261645 \nL 131.727686 164.684877 \nL 134.802066 162.150039 \nL 137.876446 159.668684 \nL 140.950826 157.251351 \nL 144.025207 154.907409 \nL 147.099587 152.644944 \nL 150.173967 150.470693 \nL 153.248347 148.390015 \nL 156.322727 146.40691 \nL 159.397107 144.524064 \nL 162.471488 142.742932 \nL 165.545868 141.063836 \nL 168.620248 139.486084 \nL 171.694628 138.008094 \nL 174.769008 136.627529 \nL 177.843388 135.341418 \nL 180.917769 134.14629 \nL 183.992149 133.038284 \nL 187.066529 132.013259 \nL 190.140909 131.066885 \nL 193.215289 130.194735 \nL 196.289669 129.392347 \nL 199.36405 128.655292 \nL 202.43843 127.97922 \nL 205.51281 127.359899 \nL 208.58719 126.793248 \nL 211.66157 126.275358 \nL 214.73595 125.802511 \nL 217.810331 125.371184 \nL 220.884711 124.978063 \nL 223.959091 124.620036 \nL 227.033471 124.294198 \nL 230.107851 123.997842 \nL 233.182231 123.728457 \nL 236.256612 123.483715 \nL 239.330992 123.261469 \nL 242.405372 123.059738 \nL 245.479752 122.876699 \nL 248.554132 122.710681 \nL 251.628512 122.560149 \nL 254.702893 122.423698 \nL 257.777273 122.300044 \nL 260.851653 122.188013 \nL 263.926033 122.086536 \nL 267.000413 121.994637 \nL 270.074793 121.911425 \nL 273.149174 121.836093 \nL 276.223554 121.767903 \nL 279.297934 121.706188 \nL 282.372314 121.650338 \nL 285.446694 121.599802 \nL 288.521074 121.554079 \nL 291.595455 121.512715 \nL 294.669835 121.475295 \nL 297.744215 121.441448 \nL 300.818595 121.410834 \nL 303.892975 121.383145 \nL 306.967355 121.358104 \nL 310.041736 121.335458 \nL 313.116116 121.31498 \nL 316.190496 121.296462 \nL 319.264876 121.279718 \nL 322.339256 121.264577 \nL 325.413636 121.250888 \nL 328.488017 121.23851 \nL 331.562397 121.227319 \nL 334.636777 121.217202 \nL 337.711157 121.208055 \nL 340.785537 121.199785 \nL 343.859917 121.192308 \nL 346.934298 121.185549 \nL 350.008678 121.179439 \nL 353.083058 121.173915 \nL 356.157438 121.168921 \nL 359.231818 121.164406 \n\" style=\"fill:none;stroke:#1f77b4;stroke-linecap:square;stroke-width:1.5;\"/>\n   </g>\n   <g id=\"line2d_19\">\n    <path clip-path=\"url(#p04b4b138c9)\" d=\"M 54.868182 17.083636 \nL 57.942562 35.322501 \nL 61.016942 49.259642 \nL 64.091322 60.206399 \nL 67.165702 68.991449 \nL 70.240083 76.164241 \nL 73.314463 82.103526 \nL 76.388843 87.078907 \nL 79.463223 91.287548 \nL 82.537603 94.876994 \nL 85.611983 97.959868 \nL 88.686364 100.623633 \nL 91.760744 102.937255 \nL 94.835124 104.955842 \nL 97.909504 106.72396 \nL 100.983884 108.278032 \nL 104.058264 109.648112 \nL 107.132645 110.859211 \nL 110.207025 111.932304 \nL 113.281405 112.885106 \nL 116.355785 113.732672 \nL 119.430165 114.487871 \nL 122.504545 115.161757 \nL 125.578926 115.763877 \nL 128.653306 116.302502 \nL 131.727686 116.784835 \nL 134.802066 117.217164 \nL 137.876446 117.604999 \nL 140.950826 117.953181 \nL 144.025207 118.265978 \nL 147.099587 118.547156 \nL 150.173967 118.800049 \nL 153.248347 119.027615 \nL 156.322727 119.232482 \nL 159.397107 119.416986 \nL 162.471488 119.583211 \nL 165.545868 119.733017 \nL 168.620248 119.868065 \nL 171.694628 119.989841 \nL 174.769008 120.099675 \nL 177.843388 120.198759 \nL 180.917769 120.288163 \nL 183.992149 120.368846 \nL 187.066529 120.441671 \nL 190.140909 120.507412 \nL 193.215289 120.566766 \nL 196.289669 120.62036 \nL 199.36405 120.668757 \nL 202.43843 120.712466 \nL 205.51281 120.751944 \nL 208.58719 120.787603 \nL 211.66157 120.819816 \nL 214.73595 120.848916 \nL 217.810331 120.875207 \nL 220.884711 120.898961 \nL 223.959091 120.920423 \nL 227.033471 120.939815 \nL 230.107851 120.957338 \nL 233.182231 120.973172 \nL 236.256612 120.987481 \nL 239.330992 121.000412 \nL 242.405372 121.012098 \nL 245.479752 121.022659 \nL 248.554132 121.032203 \nL 251.628512 121.040829 \nL 254.702893 121.048625 \nL 257.777273 121.05567 \nL 260.851653 121.062038 \nL 263.926033 121.067794 \nL 267.000413 121.072996 \nL 270.074793 121.077698 \nL 273.149174 121.081948 \nL 276.223554 121.085789 \nL 279.297934 121.089261 \nL 282.372314 121.092399 \nL 285.446694 121.095235 \nL 288.521074 121.097799 \nL 291.595455 121.100116 \nL 294.669835 121.102211 \nL 297.744215 121.104104 \nL 300.818595 121.105816 \nL 303.892975 121.107362 \nL 306.967355 121.108761 \nL 310.041736 121.110025 \nL 313.116116 121.111167 \nL 316.190496 121.1122 \nL 319.264876 121.113133 \nL 322.339256 121.113977 \nL 325.413636 121.114739 \nL 328.488017 121.115429 \nL 331.562397 121.116052 \nL 334.636777 121.116615 \nL 337.711157 121.117124 \nL 340.785537 121.117584 \nL 343.859917 121.118 \nL 346.934298 121.118376 \nL 350.008678 121.118716 \nL 353.083058 121.119023 \nL 356.157438 121.119301 \nL 359.231818 121.119552 \n\" style=\"fill:none;stroke:#ff7f0e;stroke-linecap:square;stroke-width:1.5;\"/>\n   </g>\n   <g id=\"patch_3\">\n    <path d=\"M 39.65 224.64 \nL 39.65 7.2 \n\" style=\"fill:none;stroke:#000000;stroke-linecap:square;stroke-linejoin:miter;stroke-width:0.8;\"/>\n   </g>\n   <g id=\"patch_4\">\n    <path d=\"M 374.45 224.64 \nL 374.45 7.2 \n\" style=\"fill:none;stroke:#000000;stroke-linecap:square;stroke-linejoin:miter;stroke-width:0.8;\"/>\n   </g>\n   <g id=\"patch_5\">\n    <path d=\"M 39.65 224.64 \nL 374.45 224.64 \n\" style=\"fill:none;stroke:#000000;stroke-linecap:square;stroke-linejoin:miter;stroke-width:0.8;\"/>\n   </g>\n   <g id=\"patch_6\">\n    <path d=\"M 39.65 7.2 \nL 374.45 7.2 \n\" style=\"fill:none;stroke:#000000;stroke-linecap:square;stroke-linejoin:miter;stroke-width:0.8;\"/>\n   </g>\n   <g id=\"legend_1\">\n    <g id=\"patch_7\">\n     <path d=\"M 286.95 44.55625 \nL 367.45 44.55625 \nQ 369.45 44.55625 369.45 42.55625 \nL 369.45 14.2 \nQ 369.45 12.2 367.45 12.2 \nL 286.95 12.2 \nQ 284.95 12.2 284.95 14.2 \nL 284.95 42.55625 \nQ 284.95 44.55625 286.95 44.55625 \nz\n\" style=\"fill:#ffffff;opacity:0.8;stroke:#cccccc;stroke-linejoin:miter;\"/>\n    </g>\n    <g id=\"line2d_20\">\n     <path d=\"M 288.95 20.298437 \nL 308.95 20.298437 \n\" style=\"fill:none;stroke:#1f77b4;stroke-linecap:square;stroke-width:1.5;\"/>\n    </g>\n    <g id=\"line2d_21\"/>\n    <g id=\"text_18\">\n     <!-- $P_0 = 100$ -->\n     <g transform=\"translate(316.95 23.798437)scale(0.1 -0.1)\">\n      <defs>\n       <path d=\"M 1081 4666 \nL 2541 4666 \nQ 3178 4666 3512 4369 \nQ 3847 4072 3847 3500 \nQ 3847 2731 3353 2303 \nQ 2859 1875 1966 1875 \nL 1172 1875 \nL 806 0 \nL 172 0 \nL 1081 4666 \nz\nM 1613 4147 \nL 1275 2394 \nL 2069 2394 \nQ 2606 2394 2893 2669 \nQ 3181 2944 3181 3456 \nQ 3181 3784 2986 3965 \nQ 2791 4147 2438 4147 \nL 1613 4147 \nz\n\" id=\"DejaVuSans-Oblique-50\" transform=\"scale(0.015625)\"/>\n       <path d=\"M 678 2906 \nL 4684 2906 \nL 4684 2381 \nL 678 2381 \nL 678 2906 \nz\nM 678 1631 \nL 4684 1631 \nL 4684 1100 \nL 678 1100 \nL 678 1631 \nz\n\" id=\"DejaVuSans-3d\" transform=\"scale(0.015625)\"/>\n      </defs>\n      <use transform=\"translate(0 0.78125)\" xlink:href=\"#DejaVuSans-Oblique-50\"/>\n      <use transform=\"translate(60.302734 -15.625)scale(0.7)\" xlink:href=\"#DejaVuSans-30\"/>\n      <use transform=\"translate(127.055664 0.78125)\" xlink:href=\"#DejaVuSans-3d\"/>\n      <use transform=\"translate(230.327148 0.78125)\" xlink:href=\"#DejaVuSans-31\"/>\n      <use transform=\"translate(293.950195 0.78125)\" xlink:href=\"#DejaVuSans-30\"/>\n      <use transform=\"translate(357.573242 0.78125)\" xlink:href=\"#DejaVuSans-30\"/>\n     </g>\n    </g>\n    <g id=\"line2d_22\">\n     <path d=\"M 288.95 34.976562 \nL 308.95 34.976562 \n\" style=\"fill:none;stroke:#ff7f0e;stroke-linecap:square;stroke-width:1.5;\"/>\n    </g>\n    <g id=\"line2d_23\"/>\n    <g id=\"text_19\">\n     <!-- $P_0 = 1500$ -->\n     <g transform=\"translate(316.95 38.476562)scale(0.1 -0.1)\">\n      <use transform=\"translate(0 0.78125)\" xlink:href=\"#DejaVuSans-Oblique-50\"/>\n      <use transform=\"translate(60.302734 -15.625)scale(0.7)\" xlink:href=\"#DejaVuSans-30\"/>\n      <use transform=\"translate(127.055664 0.78125)\" xlink:href=\"#DejaVuSans-3d\"/>\n      <use transform=\"translate(230.327148 0.78125)\" xlink:href=\"#DejaVuSans-31\"/>\n      <use transform=\"translate(293.950195 0.78125)\" xlink:href=\"#DejaVuSans-35\"/>\n      <use transform=\"translate(357.573242 0.78125)\" xlink:href=\"#DejaVuSans-30\"/>\n      <use transform=\"translate(421.196289 0.78125)\" xlink:href=\"#DejaVuSans-30\"/>\n     </g>\n    </g>\n   </g>\n  </g>\n </g>\n <defs>\n  <clipPath id=\"p04b4b138c9\">\n   <rect height=\"217.44\" width=\"334.8\" x=\"39.65\" y=\"7.2\"/>\n  </clipPath>\n </defs>\n</svg>\n",
      "text/plain": [
       "<Figure size 432x288 with 1 Axes>"
      ]
     },
     "metadata": {
      "needs_background": "light"
     },
     "output_type": "display_data"
    }
   ],
   "source": [
    "t = np.linspace(0, 40, 100)  # Intervalo de tiempo en que se obtiene la solución\n",
    "p1 = plt.plot(t, logistica(t, P0 = 100), label=r'$P_0 = 100$')\n",
    "p1 = plt.plot(t, logistica(t, P0 = 2000), label=r'$P_0 = 1500$')\n",
    "plt.legend()\n",
    "plt.show()"
   ]
  },
  {
   "cell_type": "code",
   "execution_count": null,
   "metadata": {},
   "outputs": [],
   "source": []
  }
 ],
 "metadata": {
  "kernelspec": {
   "display_name": "Python 3",
   "language": "python",
   "name": "python3"
  },
  "language_info": {
   "codemirror_mode": {
    "name": "ipython",
    "version": 3
   },
   "file_extension": ".py",
   "mimetype": "text/x-python",
   "name": "python",
   "nbconvert_exporter": "python",
   "pygments_lexer": "ipython3",
   "version": "3.8.6"
  }
 },
 "nbformat": 4,
 "nbformat_minor": 4
}
